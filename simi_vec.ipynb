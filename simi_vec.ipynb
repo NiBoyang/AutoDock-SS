{
 "cells": [
  {
   "cell_type": "code",
   "execution_count": 454,
   "id": "3d660ac3-9507-493c-ac02-ade7f4b88f55",
   "metadata": {},
   "outputs": [],
   "source": [
    "import os\n",
    "import subprocess\n",
    "import numpy as np\n",
    "import sys\n",
    "from scipy.spatial import distance\n",
    "def roc_auc_ef(total, actives, candidate_name):\n",
    "\n",
    "    import os\n",
    "    from importlib.resources import path\n",
    "    from sklearn import metrics\n",
    "    import matplotlib.pyplot as plt\n",
    "    import numpy as np\n",
    "\n",
    "\n",
    "    num_of_actives = len(actives)\n",
    "    num_of_decoys = len(total) - num_of_actives\n",
    "\n",
    "    act, dcy = 0, 0\n",
    "    fpr, tpr = [], []\n",
    "    for candidate in total:\n",
    "        if candidate in actives:\n",
    "            act += 1\n",
    "        else:\n",
    "            dcy += 1\n",
    "        fpr.append(dcy/num_of_decoys)\n",
    "        tpr.append(act/num_of_actives)\n",
    "\n",
    "    with plt.style.context(['science', \"high-vis\", \"grid\"]):\n",
    "        pparam = dict(xlabel='False Positive Rate', ylabel='True Positive Rate')\n",
    "        fig, ax = plt.subplots()\n",
    "        ax.set_title(f\"ROC of {candidate_name}\")\n",
    "        ax.plot(fpr, tpr, label=\"NCF-LBVS\")\n",
    "        ax.plot(fpr, fpr, label=\"Random\")\n",
    "        ax.legend(title=f\"AUC = {metrics.auc(fpr, tpr):.5f}\")\n",
    "        ax.autoscale(tight=True)\n",
    "        ax.set(**pparam)\n",
    "        ax.set_ylim(bottom=-0.03, top=1.03)\n",
    "        ax.set_xlim(left=-0.03, right=1.03)\n",
    "#         fig.savefig(f\"ROC_{candidate_name}.svg\"\n",
    "\n",
    "    data_set_count = len(total)\n",
    "    active_ratio = np.divide(num_of_actives, data_set_count)\n",
    "    Subsets = [[int(round(data_set_count * 0.01)), 1 ],\n",
    "               [int(round(data_set_count * 0.05)), 5 ],\n",
    "               [int(round(data_set_count * 0.10)), 10],\n",
    "               [int(round(data_set_count * 0.15)), 15],\n",
    "               [int(round(data_set_count * 0.20)), 20],\n",
    "               [int(round(data_set_count * 0.25)), 25],\n",
    "               [int(round(data_set_count * 0.50)), 50],\n",
    "               [int(round(data_set_count * 0.99)),100]]\n",
    "\n",
    "    EF_active_found  = 0.0\n",
    "    active_found     = 0.0\n",
    "    active_not_found = 0.0\n",
    "    Active_Found     = []\n",
    "\n",
    "\n",
    "    print(f\"\"\"\\\n",
    "Number of total ligands: {data_set_count}\\n\n",
    "Number of known actives: {num_of_actives}\\n\n",
    "Number of known decoys: {num_of_decoys}\\n\n",
    "AUC : {metrics.auc(fpr, tpr):.5f}\\n\n",
    "\"\"\")\n",
    "    \n",
    "    for data_set_index, compound in enumerate(total):\n",
    "        Name = compound.split()\n",
    "\n",
    "        if data_set_index <= num_of_actives and Name[0] in actives:\n",
    "            active_found += 1.0\n",
    "        elif data_set_index > num_of_actives and Name[0] in actives:\n",
    "            active_not_found += 1.0\n",
    "\n",
    "        ## For enrichment factor calculation\n",
    "        if Name[0] in actives:\n",
    "            EF_active_found += 1.0\n",
    "            Active_Found.append(Name[0])\n",
    "\n",
    "    # Calculate the Enrichment factor at certain subset ratio\n",
    "        for Subset in Subsets:\n",
    "            if data_set_index == Subset[0]:\n",
    "                EF = float(EF_active_found / data_set_index) / active_ratio\n",
    "                print(f\"EF at {Subset[1]} % : {EF:.2f}\\n\")"
   ]
  },
  {
   "cell_type": "code",
   "execution_count": 467,
   "id": "f09c8fb3-8291-4a81-af94-eee09d5b888e",
   "metadata": {},
   "outputs": [],
   "source": [
    "os.chdir(\"/root/autodl-tmp/lbvs/test_dude5/esr2/\")"
   ]
  },
  {
   "cell_type": "code",
   "execution_count": 468,
   "id": "ec83c50a-c8a4-4d1b-97f8-2178d2ad44ed",
   "metadata": {},
   "outputs": [],
   "source": [
    "from pathlib import Path\n",
    "pre_filtered_pdbqt_lis = list(subprocess.check_output(\"find . -name '*best_position.pdbqt' -type f\", shell=True).decode(sys.stdout.encoding).split(\"\\n\"))\n",
    "pdbqt_lis = [i for i in pre_filtered_pdbqt_lis if i != \"\"]\n",
    "# for i in pdbqt_lis:\n",
    "#     print(Path(i).stem.replace(\"_best_position\", \"\"))"
   ]
  },
  {
   "cell_type": "code",
   "execution_count": 469,
   "id": "5c79e335-c2d6-40a5-8474-ce90732b7c48",
   "metadata": {},
   "outputs": [],
   "source": [
    "import math\n",
    "simi_vec, lig_name = [], []\n",
    "for i in pdbqt_lis:\n",
    "    with open (i) as tmpfile:\n",
    "        lines = tmpfile.readlines()\n",
    "        lig_name.append(Path(i).stem.replace(\"_best_position\", \"\"))\n",
    "        score = float(lines[3].split()[-3].replace('=', '')) \n",
    "        # vhd = -(float(lines[6].split()[-2].replace('=', ''))**1.5) # vdw + hbond + desolv\n",
    "        # elec = float(lines[7].split()[-2].replace('=', '')) # eletrostatic\n",
    "        # internal = float(lines[10].split()[-2].replace('=', ''))\n",
    "        # torsion  = float(lines[11].split()[-2].replace('=', ''))\n",
    "        # unbound = float(lines[12].split()[-2].replace('=', ''))\n",
    "        simi_vec.append(score)"
   ]
  },
  {
   "cell_type": "code",
   "execution_count": 470,
   "id": "604ca07f-ee3d-4a4e-9db9-a5320c6194f4",
   "metadata": {},
   "outputs": [],
   "source": [
    "ref_ind = lig_name.index(\"original_aligned_lig\")\n",
    "ref_vec = simi_vec[ref_ind]"
   ]
  },
  {
   "cell_type": "code",
   "execution_count": 471,
   "id": "ca902842-a14b-41d0-950a-848e11da4745",
   "metadata": {},
   "outputs": [],
   "source": [
    "del simi_vec[ref_ind]\n",
    "del lig_name[ref_ind]"
   ]
  },
  {
   "cell_type": "code",
   "execution_count": 472,
   "id": "c0630171-2c1e-4487-941a-975245f79aec",
   "metadata": {},
   "outputs": [
    {
     "data": {
      "text/plain": [
       "-278.17"
      ]
     },
     "execution_count": 472,
     "metadata": {},
     "output_type": "execute_result"
    }
   ],
   "source": [
    "ref_vec"
   ]
  },
  {
   "cell_type": "code",
   "execution_count": 473,
   "id": "431c0b42-49ff-4081-b827-aa032e07c5a9",
   "metadata": {},
   "outputs": [],
   "source": [
    "tanimoto_simi = [vec/1 for vec in simi_vec]"
   ]
  },
  {
   "cell_type": "code",
   "execution_count": 474,
   "id": "adf1c191-2bd4-459e-a323-babc964991e0",
   "metadata": {},
   "outputs": [],
   "source": [
    "# import sklearn.metrics as sm\n",
    "# # for vec in simi_vec:\n",
    "# #     print(sm.r2_score(ref_vec, vec))\n",
    "# tanimoto_simi = [sm.d2_pinball_score(ref_vec,vec) for vec in simi_vec]"
   ]
  },
  {
   "cell_type": "code",
   "execution_count": 475,
   "id": "ab1c7067-c742-42b0-b60f-1a05d46cb474",
   "metadata": {},
   "outputs": [
    {
     "name": "stdout",
     "output_type": "stream",
     "text": [
      "Number of total ligands: 2054\n",
      "\n",
      "Number of known actives: 36\n",
      "\n",
      "Number of known decoys: 2018\n",
      "\n",
      "AUC : 0.77299\n",
      "\n",
      "\n",
      "EF at 1 % : 32.60\n",
      "\n",
      "EF at 5 % : 10.52\n",
      "\n",
      "EF at 10 % : 5.57\n",
      "\n",
      "EF at 15 % : 3.70\n",
      "\n",
      "EF at 20 % : 2.78\n",
      "\n",
      "EF at 25 % : 2.22\n",
      "\n",
      "EF at 50 % : 1.61\n",
      "\n",
      "EF at 100 % : 1.01\n",
      "\n"
     ]
    },
    {
     "data": {
      "image/png": "[encoded data removed]",
      "text/plain": [
       "<Figure size 252x189 with 1 Axes>"
      ]
     },
     "metadata": {
      "needs_background": "light"
     },
     "output_type": "display_data"
    }
   ],
   "source": [
    "if len(np.argsort(np.array(tanimoto_simi))) == len(simi_vec):\n",
    "    ranked = [lig_name[i] for i in np.argsort(np.array(tanimoto_simi))]\n",
    "    actives = [i for i in lig_name if i.startswith(\"CHEMBL\")]\n",
    "    roc_auc_ef(ranked, actives, \"abl1\")"
   ]
  },
  {
   "cell_type": "code",
   "execution_count": null,
   "id": "59ee2a93-9e47-4dab-b418-1faf7dd5500f",
   "metadata": {},
   "outputs": [],
   "source": []
  },
  {
   "cell_type": "code",
   "execution_count": null,
   "id": "934edf7a-e2a6-4a16-af84-fcc99c7cc2df",
   "metadata": {},
   "outputs": [],
   "source": []
  }
 ],
 "metadata": {
  "kernelspec": {
   "display_name": "ncflbvs",
   "language": "python",
   "name": "ncflbvs"
  },
  "language_info": {
   "codemirror_mode": {
    "name": "ipython",
    "version": 3
   },
   "file_extension": ".py",
   "mimetype": "text/x-python",
   "name": "python",
   "nbconvert_exporter": "python",
   "pygments_lexer": "ipython3",
   "version": "3.9.12"
  }
 },
 "nbformat": 4,
 "nbformat_minor": 5
}
