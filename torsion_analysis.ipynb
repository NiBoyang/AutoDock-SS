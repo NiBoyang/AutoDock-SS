{
 "cells": [
  {
   "cell_type": "code",
   "execution_count": 1,
   "id": "dd82505a-a612-46eb-8b38-29266aba590f",
   "metadata": {},
   "outputs": [],
   "source": [
    "import os, subprocess, sys\n",
    "from pathlib import Path\n",
    "import numpy as np\n",
    "import collections"
   ]
  },
  {
   "cell_type": "code",
   "execution_count": 2,
   "id": "18300ed8-abd3-4ce2-8a2b-8e6eacba7a5c",
   "metadata": {},
   "outputs": [],
   "source": [
    "target = \"drd3\""
   ]
  },
  {
   "cell_type": "code",
   "execution_count": 3,
   "id": "9a3b78d9-6bd2-4205-aed9-2868af087a89",
   "metadata": {},
   "outputs": [],
   "source": [
    "flexi_path = f\"/root/autodl-tmp/lbvs/test_dude_flexi_final/{target}/docking_test/lib/\"\n",
    "rigid_path = f\"/root/autodl-tmp/lbvs/test_dude_rigid_final/{target}/docking_test/lib/\""
   ]
  },
  {
   "cell_type": "code",
   "execution_count": 4,
   "id": "11ac9bdf-b7bf-4fbb-b019-9c71246f1c3f",
   "metadata": {},
   "outputs": [],
   "source": [
    "rigid_lib_paths = [path.replace(\"./\", rigid_path) \n",
    "                    for path in \n",
    "                       list(subprocess.check_output(\"find . -name '*best_position.pdbqt' -type f\", shell=True, cwd=rigid_path).\n",
    "                         decode(sys.stdout.encoding).split(\"\\n\"))][0:-1]"
   ]
  },
  {
   "cell_type": "code",
   "execution_count": 5,
   "id": "cd69602f-edcb-45c7-b8b7-e7dcae15bb14",
   "metadata": {},
   "outputs": [],
   "source": [
    "flexi_lib_paths = [path.replace(\"./\", flexi_path) \n",
    "                    for path in \n",
    "                       list(subprocess.check_output(\"find . -name '*best_position.pdbqt' -type f\", shell=True, cwd=flexi_path).\n",
    "                         decode(sys.stdout.encoding).split(\"\\n\"))][0:-1]"
   ]
  },
  {
   "cell_type": "code",
   "execution_count": 6,
   "id": "c9891951-cf57-4c52-ab94-b0f06e080876",
   "metadata": {},
   "outputs": [
    {
     "data": {
      "text/plain": [
       "7"
      ]
     },
     "execution_count": 6,
     "metadata": {},
     "output_type": "execute_result"
    }
   ],
   "source": [
    "ref_ind = [flexi_lib_paths.index(i) for i in flexi_lib_paths if not Path(i).stem.startswith(\"ZINC\") and not Path(i).stem.startswith(\"CHEMBL\")][0]\n",
    "with open(flexi_lib_paths[ref_ind], \"r\") as tmp:\n",
    "    lines = tmp.readlines()\n",
    "    ref_torsion = int(lines[15].split()[1])\n",
    "    \n",
    "del rigid_lib_paths[ref_ind]\n",
    "del flexi_lib_paths[ref_ind]\n",
    "ref_torsion"
   ]
  },
  {
   "cell_type": "code",
   "execution_count": 7,
   "id": "ded2cca5-867d-4d37-8512-e633314acec5",
   "metadata": {},
   "outputs": [],
   "source": [
    "actives_ind = [flexi_lib_paths.index(i) for i in flexi_lib_paths if Path(i).stem.startswith(\"CHEMBL\")]\n",
    "actives_torsion = []\n",
    "for ind in actives_ind:\n",
    "    with open(flexi_lib_paths[ind], \"r\") as tmp:\n",
    "        lines = tmp.readlines()\n",
    "        actives_torsion.append(int(lines[15].split()[1]))"
   ]
  },
  {
   "cell_type": "code",
   "execution_count": 8,
   "id": "db500db8-381a-4d6b-bfe5-312249df531a",
   "metadata": {},
   "outputs": [],
   "source": [
    "decoys_ind = [flexi_lib_paths.index(i) for i in flexi_lib_paths if not Path(i).stem.startswith(\"CHEMBL\")]\n",
    "decoys_torsion = []\n",
    "for ind in decoys_ind:\n",
    "    with open(flexi_lib_paths[ind], \"r\") as tmp:\n",
    "        lines = tmp.readlines()\n",
    "        decoys_torsion.append(int(lines[15].split()[1]))"
   ]
  },
  {
   "cell_type": "code",
   "execution_count": 9,
   "id": "7fcec5ca-e391-4ae9-b33d-0b09cb9a91b5",
   "metadata": {},
   "outputs": [],
   "source": [
    "all_torsion = []\n",
    "for file in flexi_lib_paths:\n",
    "    with open(file, \"r\") as tmp:\n",
    "        lines = tmp.readlines()\n",
    "        all_torsion.append(int(lines[15].split()[1]))"
   ]
  },
  {
   "cell_type": "code",
   "execution_count": 10,
   "id": "b1d93782-ca67-410c-8654-60a81c657644",
   "metadata": {},
   "outputs": [],
   "source": [
    "actives_dict = dict(collections.Counter(actives_torsion))\n",
    "{k: round(actives_dict[k] / len(actives_torsion), 3) for k in actives_dict}\n",
    "actives_density = dict(collections.OrderedDict(sorted({k: round(actives_dict[k] / len(actives_torsion), 3) for k in actives_dict}.items())))"
   ]
  },
  {
   "cell_type": "code",
   "execution_count": 11,
   "id": "3e630712-b390-4fa4-97ca-af3d7c2e669b",
   "metadata": {},
   "outputs": [],
   "source": [
    "decoys_dict = dict(collections.Counter(decoys_torsion))\n",
    "{k: round(decoys_dict[k] / len(decoys_torsion), 5) for k in decoys_dict}\n",
    "decoys_density = dict(collections.OrderedDict(sorted({k: round(decoys_dict[k] / len(decoys_torsion), 3) for k in decoys_dict}.items())))"
   ]
  },
  {
   "cell_type": "code",
   "execution_count": 12,
   "id": "da609419-cace-49fa-9cc3-89f2c6073578",
   "metadata": {},
   "outputs": [],
   "source": [
    "lib_rbonds = []\n",
    "lib_names = []\n",
    "for lig in flexi_lib_paths:\n",
    "    try:\n",
    "        with open(lig, \"r\") as tmp:\n",
    "            lines = tmp.readlines()\n",
    "            lib_rbonds.append(int(lines[15].split()[1]))\n",
    "            lib_names.append(Path(lig).stem.replace('_best_position', ''))\n",
    "    except:\n",
    "        pass"
   ]
  },
  {
   "cell_type": "code",
   "execution_count": 13,
   "id": "39fb729a-00a1-4ce2-a850-a1b2ae14032c",
   "metadata": {},
   "outputs": [],
   "source": [
    "flexi_scores = []\n",
    "for lig in flexi_lib_paths:\n",
    "    with open(lig, \"r\") as tmp:\n",
    "        lines = tmp.readlines()\n",
    "        flexi_scores.append(float(lines[3].replace(\"=\", \"\").split()[-3]))\n",
    "flexi_scores = np.array(flexi_scores)"
   ]
  },
  {
   "cell_type": "code",
   "execution_count": 14,
   "id": "e2c48431-fcec-45a4-8d30-062629a4b708",
   "metadata": {},
   "outputs": [],
   "source": [
    "rigid_scores = []\n",
    "for lig in rigid_lib_paths:\n",
    "    with open(lig, \"r\") as tmp:\n",
    "        lines = tmp.readlines()\n",
    "        rigid_scores.append(float(lines[3].replace(\"=\", \"\").split()[-3]))\n",
    "rigid_scores = np.array(rigid_scores)"
   ]
  },
  {
   "cell_type": "code",
   "execution_count": 15,
   "id": "6ec92379-ae78-4316-80bc-79575a6647de",
   "metadata": {},
   "outputs": [],
   "source": [
    "dict2 = dict(collections.Counter(lib_rbonds))"
   ]
  },
  {
   "cell_type": "code",
   "execution_count": 16,
   "id": "2f7687cf-0bf3-4fc6-a169-3938dc26fd12",
   "metadata": {},
   "outputs": [],
   "source": [
    "good_inds = []\n",
    "if len(rigid_scores) == len(flexi_scores):\n",
    "    for i in range(len(rigid_scores)):\n",
    "        if rigid_scores[i] - flexi_scores[i] > 10:\n",
    "            good_inds.append(i)"
   ]
  },
  {
   "cell_type": "code",
   "execution_count": 17,
   "id": "90de5bff-6568-4275-9510-003c4a2ce9a0",
   "metadata": {},
   "outputs": [],
   "source": [
    "dict1 = dict(collections.Counter(np.array(lib_rbonds)[good_inds]))"
   ]
  },
  {
   "cell_type": "code",
   "execution_count": 18,
   "id": "a396c793-ab0f-4977-9268-9019ef33f196",
   "metadata": {},
   "outputs": [],
   "source": [
    "d = {k: round((dict1[k] / dict2[k]),3) for k in dict1}"
   ]
  },
  {
   "cell_type": "code",
   "execution_count": 19,
   "id": "8a6419c0-43a8-4b09-a388-c8f0bf18587b",
   "metadata": {},
   "outputs": [],
   "source": [
    "od = collections.OrderedDict(sorted(d.items()))"
   ]
  },
  {
   "cell_type": "code",
   "execution_count": 20,
   "id": "5b02f48e-e8da-41b9-9377-ce7b2097e9eb",
   "metadata": {},
   "outputs": [
    {
     "data": {
      "text/plain": [
       "OrderedDict([(1, 0.054),\n",
       "             (2, 0.188),\n",
       "             (3, 0.37),\n",
       "             (4, 0.599),\n",
       "             (5, 0.753),\n",
       "             (6, 0.864),\n",
       "             (7, 0.906),\n",
       "             (8, 0.972),\n",
       "             (9, 0.986),\n",
       "             (10, 1.0),\n",
       "             (11, 1.0),\n",
       "             (12, 1.0),\n",
       "             (13, 1.0),\n",
       "             (14, 1.0)])"
      ]
     },
     "execution_count": 20,
     "metadata": {},
     "output_type": "execute_result"
    }
   ],
   "source": [
    "od"
   ]
  },
  {
   "cell_type": "code",
   "execution_count": 21,
   "id": "8afdccfa-c585-4921-a3ce-c6b01dfddfb9",
   "metadata": {},
   "outputs": [
    {
     "data": {
      "text/plain": [
       "{0: 0.021,\n",
       " 1: 0.021,\n",
       " 3: 0.042,\n",
       " 4: 0.083,\n",
       " 5: 0.083,\n",
       " 6: 0.229,\n",
       " 7: 0.167,\n",
       " 8: 0.167,\n",
       " 9: 0.167,\n",
       " 11: 0.021}"
      ]
     },
     "execution_count": 21,
     "metadata": {},
     "output_type": "execute_result"
    }
   ],
   "source": [
    "actives_density"
   ]
  },
  {
   "cell_type": "code",
   "execution_count": 22,
   "id": "bfa0dfb8-e7dc-4b6d-ab92-b20c85de1516",
   "metadata": {},
   "outputs": [
    {
     "data": {
      "text/plain": [
       "{0: 0.004,\n",
       " 1: 0.011,\n",
       " 2: 0.044,\n",
       " 3: 0.076,\n",
       " 4: 0.109,\n",
       " 5: 0.136,\n",
       " 6: 0.173,\n",
       " 7: 0.166,\n",
       " 8: 0.112,\n",
       " 9: 0.082,\n",
       " 10: 0.044,\n",
       " 11: 0.021,\n",
       " 12: 0.012,\n",
       " 13: 0.008,\n",
       " 14: 0.002}"
      ]
     },
     "execution_count": 22,
     "metadata": {},
     "output_type": "execute_result"
    }
   ],
   "source": [
    "decoys_density"
   ]
  },
  {
   "cell_type": "code",
   "execution_count": 23,
   "id": "5aa739c2-12b2-4bf0-852e-e2c9d37f1ef9",
   "metadata": {},
   "outputs": [],
   "source": [
    "# actives_score = 0\n",
    "# for keys, values in actives_density.items():\n",
    "#     # if keys <= ref_torsion:\n",
    "#         try:\n",
    "#             actives_score += values * od.get(keys)\n",
    "#         except:\n",
    "#             actives_score += 0"
   ]
  },
  {
   "cell_type": "code",
   "execution_count": null,
   "id": "79d05e88-9344-4081-a279-ed2b61bf2a88",
   "metadata": {},
   "outputs": [],
   "source": []
  },
  {
   "cell_type": "code",
   "execution_count": 24,
   "id": "9b288747-76f2-46ef-ad06-dcb2d31526d6",
   "metadata": {},
   "outputs": [],
   "source": [
    "# decoys_score = 0\n",
    "# for keys, values in decoys_density.items():\n",
    "#     # if keys <= ref_torsion:\n",
    "#         try:\n",
    "#             decoys_score += values * od.get(keys)\n",
    "#         except:\n",
    "#             decoys_score += 0\n",
    "# decoys_score"
   ]
  },
  {
   "cell_type": "code",
   "execution_count": 25,
   "id": "4b963015-5e1c-4b5b-8209-9f1c33952199",
   "metadata": {},
   "outputs": [],
   "source": [
    "# rigid_scores - flexi_scores"
   ]
  },
  {
   "cell_type": "code",
   "execution_count": 26,
   "id": "7b74b143-4702-44f2-9d79-4d45eb054a0c",
   "metadata": {},
   "outputs": [],
   "source": [
    "# len(all_torsion) == len(rigid_scores - flexi_scores)"
   ]
  },
  {
   "cell_type": "code",
   "execution_count": 27,
   "id": "813213c7-422c-41bd-8d0d-f0321b0f4fd7",
   "metadata": {},
   "outputs": [],
   "source": [
    "score_change = {k: np.mean((rigid_scores - flexi_scores)[np.where(np.array(lib_rbonds)==k)[0]]) for k in d.keys()}"
   ]
  },
  {
   "cell_type": "code",
   "execution_count": 28,
   "id": "a43456fc-b5dd-48c9-be96-74edd53aced0",
   "metadata": {},
   "outputs": [],
   "source": [
    "sorted_score_change = collections.OrderedDict(sorted(score_change.items()))"
   ]
  },
  {
   "cell_type": "code",
   "execution_count": 29,
   "id": "e1fb2bcc-e761-4941-a8f4-285dbe2c8160",
   "metadata": {},
   "outputs": [
    {
     "data": {
      "text/plain": [
       "OrderedDict([(1, 3.501621621621622),\n",
       "             (2, 5.462013422818791),\n",
       "             (3, 9.035534351145037),\n",
       "             (4, 12.544598930481284),\n",
       "             (5, 17.063032258064517),\n",
       "             (6, 20.440748752079866),\n",
       "             (7, 23.69314136125654),\n",
       "             (8, 26.98570694087404),\n",
       "             (9, 32.03486013986014),\n",
       "             (10, 35.815298013245034),\n",
       "             (11, 39.59178082191781),\n",
       "             (12, 41.822500000000005),\n",
       "             (13, 45.561428571428564),\n",
       "             (14, 46.82125)])"
      ]
     },
     "execution_count": 29,
     "metadata": {},
     "output_type": "execute_result"
    }
   ],
   "source": [
    "sorted_score_change"
   ]
  },
  {
   "cell_type": "code",
   "execution_count": 30,
   "id": "62105f49-19bd-4778-9311-216a26c29474",
   "metadata": {},
   "outputs": [
    {
     "data": {
      "text/plain": [
       "19.95040921127194"
      ]
     },
     "execution_count": 30,
     "metadata": {},
     "output_type": "execute_result"
    }
   ],
   "source": [
    "actives_score = 0\n",
    "for keys, values in actives_density.items():\n",
    "    # if keys > ref_torsion:\n",
    "        try:\n",
    "            actives_score += values * sorted_score_change.get(keys) * od.get(keys)\n",
    "        except:\n",
    "            actives_score += 0\n",
    "actives_score"
   ]
  },
  {
   "cell_type": "code",
   "execution_count": 31,
   "id": "13af4606-bf37-4981-955b-8c9cae481695",
   "metadata": {},
   "outputs": [
    {
     "data": {
      "text/plain": [
       "18.381613616977113"
      ]
     },
     "execution_count": 31,
     "metadata": {},
     "output_type": "execute_result"
    }
   ],
   "source": [
    "decoys_score = 0\n",
    "for keys, values in decoys_density.items():\n",
    "    # if keys > ref_torsion:\n",
    "        try:\n",
    "            decoys_score += values * sorted_score_change.get(keys) * od.get(keys)\n",
    "        except:\n",
    "            decoys_score += 0\n",
    "decoys_score"
   ]
  },
  {
   "cell_type": "code",
   "execution_count": 32,
   "id": "2f5227ce-0287-4b04-a8a6-ae998c6e663f",
   "metadata": {},
   "outputs": [
    {
     "data": {
      "text/plain": [
       "1.0853459128770881"
      ]
     },
     "execution_count": 32,
     "metadata": {},
     "output_type": "execute_result"
    }
   ],
   "source": [
    "actives_score/decoys_score"
   ]
  },
  {
   "cell_type": "code",
   "execution_count": 113,
   "id": "452455d0-1bce-4dfc-bf25-71dda8acda8b",
   "metadata": {},
   "outputs": [],
   "source": [
    "import os, subprocess, sys\n",
    "from pathlib import Path\n",
    "import numpy as np\n",
    "import collections\n",
    "flexi_path = f\"/root/autodl-tmp/lbvs/test_dude_flexi_final/\"\n",
    "rigid_path = f\"/root/autodl-tmp/lbvs/test_dude_rigid_final/\""
   ]
  },
  {
   "cell_type": "code",
   "execution_count": 109,
   "id": "5643d16f-bf34-4ee5-9788-416697a7c7d8",
   "metadata": {},
   "outputs": [],
   "source": [
    "rigid_lib_ranked_file = [path.replace(\"./\", rigid_path) \n",
    "                            for path in \n",
    "                               list(subprocess.check_output(\"find . -name 'ranked.txt' -type f\", shell=True, cwd=rigid_path).\n",
    "                                 decode(sys.stdout.encoding).split(\"\\n\"))][0:-1]\n",
    "rigid_lib_paths = []\n",
    "for file in rigid_lib_ranked_file:\n",
    "    with open(file, \"r\") as tmp:\n",
    "        lines = tmp.readlines()\n",
    "        targets = [file.replace(\"ranked.txt\", f\"lib/{i.split()[0]}/{i.split()[0]}_best_position.pdbqt\") for i in lines]\n",
    "        rigid_lib_paths += targets"
   ]
  },
  {
   "cell_type": "code",
   "execution_count": 114,
   "id": "5495de21-cae9-478a-a79e-7dabf4b6179c",
   "metadata": {},
   "outputs": [],
   "source": [
    "flexi_lib_ranked_file = [path.replace(\"./\", flexi_path) \n",
    "                            for path in \n",
    "                               list(subprocess.check_output(\"find . -name 'ranked.txt' -type f\", shell=True, cwd=flexi_path).\n",
    "                                 decode(sys.stdout.encoding).split(\"\\n\"))][0:-1]\n",
    "flexi_lib_paths = []\n",
    "for file in flexi_lib_ranked_file:\n",
    "    with open(file, \"r\") as tmp:\n",
    "        lines = tmp.readlines()\n",
    "        targets = [file.replace(\"ranked.txt\", f\"lib/{i.split()[0]}/{i.split()[0]}_best_position.pdbqt\") for i in lines]\n",
    "        flexi_lib_paths += targets"
   ]
  },
  {
   "cell_type": "code",
   "execution_count": 73,
   "id": "163f4b83-b555-4cb2-a469-e2d7ed81dfd3",
   "metadata": {},
   "outputs": [],
   "source": [
    "all_torsion = []\n",
    "for file in flexi_lib_paths:\n",
    "    with open(file, \"r\") as tmp:\n",
    "        lines = tmp.readlines()\n",
    "        all_torsion.append(int(lines[15].split()[1]))"
   ]
  },
  {
   "cell_type": "code",
   "execution_count": 74,
   "id": "bcf2745f-3221-4c9a-aad7-92b891d182ab",
   "metadata": {},
   "outputs": [],
   "source": [
    "lib_rbonds = []\n",
    "lib_names = []\n",
    "for lig in flexi_lib_paths:\n",
    "    try:\n",
    "        with open(lig, \"r\") as tmp:\n",
    "            lines = tmp.readlines()\n",
    "            lib_rbonds.append(int(lines[15].split()[1]))\n",
    "            lib_names.append(Path(lig).stem.replace('_best_position', ''))\n",
    "    except:\n",
    "        pass"
   ]
  },
  {
   "cell_type": "code",
   "execution_count": 202,
   "id": "8a018c20-3494-4020-8d26-6159c29e9023",
   "metadata": {},
   "outputs": [],
   "source": [
    "flexi_scores = []\n",
    "for file in flexi_lib_ranked_file:\n",
    "    score_file = file.replace(\"ranked.txt\", \"scores.txt\")\n",
    "    with open(score_file, \"r\") as tmp:\n",
    "        lines = tmp.readlines()\n",
    "        sc = [float(i.split()[0]) for i in lines]\n",
    "        flexi_scores += sc\n",
    "flexi_scores = np.array(flexi_scores)\n",
    "flexi_scores = 1 + 1/flexi_scores"
   ]
  },
  {
   "cell_type": "code",
   "execution_count": 143,
   "id": "8e911b25-e6f7-45c0-af56-adc620d7cf76",
   "metadata": {},
   "outputs": [],
   "source": [
    "flexi_lib_paths = np.array(flexi_lib_paths)"
   ]
  },
  {
   "cell_type": "code",
   "execution_count": 144,
   "id": "c178f5ed-f4a4-4d84-ace4-63634e930e76",
   "metadata": {},
   "outputs": [
    {
     "data": {
      "text/plain": [
       "['/root/autodl-tmp/lbvs/test_dude_flexi_final/wee1/docking_test/lib/CHEMBL271715/CHEMBL271715_best_position.pdbqt',\n",
       " '/root/autodl-tmp/lbvs/test_dude_flexi_final/aa2ar/docking_test/lib/CHEMBL177229/CHEMBL177229_best_position.pdbqt']"
      ]
     },
     "execution_count": 144,
     "metadata": {},
     "output_type": "execute_result"
    }
   ],
   "source": [
    "list(flexi_lib_paths[np.where(flexi_scores>0)])[::-1]"
   ]
  },
  {
   "cell_type": "code",
   "execution_count": 203,
   "id": "aecac7aa-3910-4bf0-b572-17ab998f0bcf",
   "metadata": {},
   "outputs": [],
   "source": [
    "rigid_scores = []\n",
    "for file in rigid_lib_ranked_file:\n",
    "    score_file = file.replace(\"ranked.txt\", \"scores.txt\")\n",
    "    with open(score_file, \"r\") as tmp:\n",
    "        lines = tmp.readlines()\n",
    "        sc = [float(i.split()[0]) for i in lines]\n",
    "        rigid_scores += sc\n",
    "rigid_scores = np.array(rigid_scores)\n",
    "rigid_scores = 1 + 1/rigid_scores"
   ]
  },
  {
   "cell_type": "code",
   "execution_count": 295,
   "id": "285dbf90-1d3c-40d8-9e6b-bc8ae58573b3",
   "metadata": {},
   "outputs": [
    {
     "data": {
      "image/png": "[encoded data removed]",
      "text/plain": [
       "<Figure size 1050x787.5 with 2 Axes>"
      ]
     },
     "metadata": {
      "needs_background": "light"
     },
     "output_type": "display_data"
    }
   ],
   "source": [
    "import string\n",
    "with plt.style.context(['science', \"high-vis\", \"grid\"]):\n",
    "    fig, ax = plt.subplots(2,1, dpi=300)\n",
    "    ax[0].boxplot([flexi_scores, rigid_scores], showfliers=False, notch=True, showmeans=True, vert=False)\n",
    "    # ax[0].autoscale(tight=True)\n",
    "    ax[0].set_xlim(left=0.05, right=0.6)\n",
    "    ax[0].set(xlabel=\"$S_{sim}$\")\n",
    "    ax[0].set_yticklabels(['Flexible DUD-E library', 'Rigid DUD-E library'], fontsize=8)\n",
    "    \n",
    "    ax[1].plot(list(od)[1:21],list(od.values())[1:21], \".-\")\n",
    "    ax[1].set_ylim(bottom=0.48, top=0.92)\n",
    "    ax[1].set_yticks([0.5, 0.6, 0.7, 0.8, 0.9])\n",
    "    ax[1].set_yticklabels([0.5, 0.6, 0.7, 0.8, 0.9])\n",
    "    ax[1].set_xticks([i for i in range(1,21)], fontsize=8)\n",
    "    ax[1].set_xticklabels([i for i in range(1,21)], fontsize=8)\n",
    "    ax[1].set(xlabel=\"Number of rotatable bonds\", ylabel=\"Rate\")\n",
    "    for n, a in enumerate(ax):   \n",
    "        a.text(-0.1, 1.1, string.ascii_uppercase[n], transform=a.transAxes, \n",
    "                size=15, weight='bold')\n",
    "    plt.subplots_adjust(bottom=0.1, top=0.9, hspace=0.8)\n",
    "    # ax[1].set_ylabel(\"Percentage\")\n",
    "    # plt.show()\n",
    "    plt.savefig(\"flexi_vs_rigid.svg\")\n",
    "    # ax2 = ax.twiny()\n",
    "    # ax.set_xticks([1,2])\n",
    "    # ax2.set_xticks([1,2])\n",
    "    # ax.boxplot(flexi_scores, positions=[1], showfliers=False)\n",
    "    # ax2.boxplot(rigid_scores, positions=[2], showfliers=False)"
   ]
  },
  {
   "cell_type": "code",
   "execution_count": 208,
   "id": "9231f5ad-115b-411c-879e-e162f0e0253d",
   "metadata": {},
   "outputs": [
    {
     "data": {
      "text/plain": [
       "(0.3486143013548126, 0.34884444262636044)"
      ]
     },
     "execution_count": 208,
     "metadata": {},
     "output_type": "execute_result"
    }
   ],
   "source": [
    "import scipy.stats as st\n",
    "st.norm.interval(alpha=0.95, loc=np.mean(flexi_scores), scale=st.sem(rigid_scores))"
   ]
  },
  {
   "cell_type": "code",
   "execution_count": 209,
   "id": "36f09a0c-0cb0-45a9-8cb0-2728e570a84c",
   "metadata": {},
   "outputs": [
    {
     "data": {
      "text/plain": [
       "(0.2796918044008143, 0.2799219458679648)"
      ]
     },
     "execution_count": 209,
     "metadata": {},
     "output_type": "execute_result"
    }
   ],
   "source": [
    "st.t.interval(alpha=0.95, df=len(rigid_scores)-1, loc=np.mean(rigid_scores), scale=st.sem(rigid_scores)) "
   ]
  },
  {
   "cell_type": "code",
   "execution_count": 228,
   "id": "2c7a5d02-cac2-4ca5-8d3c-d4004fe19b83",
   "metadata": {},
   "outputs": [
    {
     "data": {
      "text/plain": [
       "-0.06892249685619695"
      ]
     },
     "execution_count": 228,
     "metadata": {},
     "output_type": "execute_result"
    }
   ],
   "source": [
    "np.mean(rigid_scores)-np.mean(flexi_scores)"
   ]
  },
  {
   "cell_type": "code",
   "execution_count": 229,
   "id": "86b76c28-0d94-4af8-bf89-30ddeb7f8000",
   "metadata": {},
   "outputs": [
    {
     "data": {
      "text/plain": [
       "[0.27980687513438957, 0.3487293719905865]"
      ]
     },
     "execution_count": 229,
     "metadata": {},
     "output_type": "execute_result"
    }
   ],
   "source": [
    "[np.mean(rigid_scores), np.mean(flexi_scores)]"
   ]
  },
  {
   "cell_type": "code",
   "execution_count": 222,
   "id": "b5ca69af-15f7-4a83-a4fe-820f354a00e1",
   "metadata": {},
   "outputs": [],
   "source": [
    "good_inds = []\n",
    "if len(rigid_scores) == len(flexi_scores):\n",
    "    for i in range(len(rigid_scores)):\n",
    "        if rigid_scores[i] - flexi_scores[i] < -0.05:\n",
    "            good_inds.append(i)"
   ]
  },
  {
   "cell_type": "code",
   "execution_count": 223,
   "id": "5b5bc4f3-812c-40e4-b7c2-d097622b9722",
   "metadata": {},
   "outputs": [],
   "source": [
    "dict2 = dict(collections.Counter(lib_rbonds))\n",
    "dict1 = dict(collections.Counter(np.array(lib_rbonds)[good_inds]))"
   ]
  },
  {
   "cell_type": "code",
   "execution_count": 224,
   "id": "6af30518-ff75-4c9f-8940-a724584a30a8",
   "metadata": {},
   "outputs": [],
   "source": [
    "d = {k: round((dict1[k] / dict2[k]),3) for k in dict1}"
   ]
  },
  {
   "cell_type": "code",
   "execution_count": 225,
   "id": "f25fbd53-2b67-45e2-ad69-4bda41960aa4",
   "metadata": {},
   "outputs": [],
   "source": [
    "od = collections.OrderedDict(sorted(d.items()))"
   ]
  },
  {
   "cell_type": "code",
   "execution_count": 291,
   "id": "5a333043-6f8e-4b76-9253-4483992a2d10",
   "metadata": {},
   "outputs": [
    {
     "data": {
      "text/plain": [
       "OrderedDict([(0, 0.548),\n",
       "             (1, 0.568),\n",
       "             (2, 0.582),\n",
       "             (3, 0.617),\n",
       "             (4, 0.667),\n",
       "             (5, 0.713),\n",
       "             (6, 0.744),\n",
       "             (7, 0.782),\n",
       "             (8, 0.803),\n",
       "             (9, 0.818),\n",
       "             (10, 0.824),\n",
       "             (11, 0.825),\n",
       "             (12, 0.827),\n",
       "             (13, 0.834),\n",
       "             (14, 0.827),\n",
       "             (15, 0.828),\n",
       "             (16, 0.806),\n",
       "             (17, 0.809),\n",
       "             (18, 0.78),\n",
       "             (19, 0.807),\n",
       "             (20, 0.746),\n",
       "             (21, 0.759),\n",
       "             (22, 0.805),\n",
       "             (23, 0.763),\n",
       "             (24, 0.726),\n",
       "             (25, 0.87),\n",
       "             (26, 0.783),\n",
       "             (27, 1.0),\n",
       "             (28, 0.75)])"
      ]
     },
     "execution_count": 291,
     "metadata": {},
     "output_type": "execute_result"
    }
   ],
   "source": [
    "od"
   ]
  },
  {
   "cell_type": "code",
   "execution_count": 251,
   "id": "42988e96-6fe2-428d-b8b1-2a1aa8666a5f",
   "metadata": {},
   "outputs": [
    {
     "data": {
      "image/png": "[encoded data removed]",
      "text/plain": [
       "<Figure size 1050x787.5 with 1 Axes>"
      ]
     },
     "metadata": {
      "needs_background": "light"
     },
     "output_type": "display_data"
    }
   ],
   "source": [
    "with plt.style.context(['science', \"high-vis\", \"grid\"]):\n",
    "    fig, ax = plt.subplots(dpi=300, sharex=True, sharey=True)\n",
    "    ax.plot(list(od)[0:21],list(od.values())[0:21], \".-\")\n",
    "    ax.set_ylim(bottom=0.48, top=0.92)\n",
    "    ax.set_xticks([i for i in range(21)])\n",
    "    ax.set_xticklabels([i for i in range(21)], fontsize=8)\n",
    "    ax.set_xlabel(\"Number of rotatable bonds\")\n",
    "    ax.set_ylabel(\"Percentage\")"
   ]
  },
  {
   "cell_type": "code",
   "execution_count": null,
   "id": "659f3abe-ee99-4ca8-baac-7b0db878bb4b",
   "metadata": {},
   "outputs": [],
   "source": []
  }
 ],
 "metadata": {
  "kernelspec": {
   "display_name": "ncflbvs",
   "language": "python",
   "name": "ncflbvs"
  },
  "language_info": {
   "codemirror_mode": {
    "name": "ipython",
    "version": 3
   },
   "file_extension": ".py",
   "mimetype": "text/x-python",
   "name": "python",
   "nbconvert_exporter": "python",
   "pygments_lexer": "ipython3",
   "version": "3.9.12"
  }
 },
 "nbformat": 4,
 "nbformat_minor": 5
}
