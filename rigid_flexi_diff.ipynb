{
 "cells": [
  {
   "cell_type": "code",
   "execution_count": 581,
   "id": "25118b8d-0373-47bc-9c24-ea35a897b44b",
   "metadata": {},
   "outputs": [],
   "source": [
    "import os, subprocess, sys\n",
    "from pathlib import Path\n",
    "import numpy as np\n",
    "import collections\n",
    "from pathlib import Path\n",
    "import math"
   ]
  },
  {
   "cell_type": "code",
   "execution_count": 877,
   "id": "8a4594df-f144-454a-8941-924047e8d952",
   "metadata": {},
   "outputs": [],
   "source": [
    "target = \"pgh1\""
   ]
  },
  {
   "cell_type": "code",
   "execution_count": 878,
   "id": "c97231e0-c52f-495a-b25b-fc36d7e12661",
   "metadata": {},
   "outputs": [],
   "source": [
    "flexi_path = f\"/root/autodl-tmp/lbvs/test_dude5/{target}/docking_test/lib/\"\n",
    "rigid_path = f\"/root/autodl-tmp/lbvs/test_dude5_rigid/{target}/docking_test/lib/\"\n",
    "flexi_rank_file = f\"/root/autodl-tmp/lbvs/test_dude5/{target}/docking_test/ranked.txt\"\n",
    "rigid_rank_file = f\"/root/autodl-tmp/lbvs/test_dude5_rigid/{target}/docking_test/ranked.txt\""
   ]
  },
  {
   "cell_type": "code",
   "execution_count": 879,
   "id": "86865bdd-68f7-43b1-802d-1c01ff90a3b4",
   "metadata": {},
   "outputs": [],
   "source": [
    "with open(flexi_rank_file, \"r\") as tmp:\n",
    "    flexi_rank = [a.strip() for a in tmp.readlines() if a != \"\"]\n",
    "with open(rigid_rank_file, \"r\") as tmp:\n",
    "    rigid_rank = [b.strip() for b in tmp.readlines() if b != \"\"]"
   ]
  },
  {
   "cell_type": "code",
   "execution_count": 880,
   "id": "91167703-57dc-4b91-b6fc-465edfcbf4b8",
   "metadata": {},
   "outputs": [
    {
     "data": {
      "text/plain": [
       "8"
      ]
     },
     "execution_count": 880,
     "metadata": {},
     "output_type": "execute_result"
    }
   ],
   "source": [
    "rigid_lib_paths = [path.replace(\"./\", rigid_path) \n",
    "                    for path in \n",
    "                       list(subprocess.check_output(\"find . -name '*best_position.pdbqt' -type f\", shell=True, cwd=rigid_path).\n",
    "                         decode(sys.stdout.encoding).split(\"\\n\"))][0:-1]\n",
    "flexi_lib_paths = [path.replace(\"./\", flexi_path) \n",
    "                    for path in \n",
    "                       list(subprocess.check_output(\"find . -name '*best_position.pdbqt' -type f\", shell=True, cwd=flexi_path).\n",
    "                         decode(sys.stdout.encoding).split(\"\\n\"))][0:-1]\n",
    "ref_ind = [flexi_lib_paths.index(i) for i in flexi_lib_paths if (\"_ligand\" in Path(i).stem or \"_lig\" in Path(i).stem or \"_lig1\" in Path(i).stem or \"_complex\" in Path(i).stem)][0]\n",
    "with open(flexi_lib_paths[ref_ind], \"r\") as tmp:\n",
    "    lines = tmp.readlines()\n",
    "    ref_torsion = int(lines[15].split()[1])\n",
    "    ref_score_flexi = float(lines[3].replace(\"=\", \"\").split()[-3])\n",
    "\n",
    "with open(rigid_lib_paths[ref_ind], \"r\") as tmp:\n",
    "    lines = tmp.readlines()\n",
    "    ref_score_rigid = float(lines[3].replace(\"=\", \"\").split()[-3])\n",
    "\n",
    "del rigid_lib_paths[ref_ind]\n",
    "del flexi_lib_paths[ref_ind]\n",
    "ref_torsion"
   ]
  },
  {
   "cell_type": "code",
   "execution_count": 881,
   "id": "e0af80f9-15b1-467e-a589-e6bf5a1461c0",
   "metadata": {},
   "outputs": [],
   "source": [
    "actives_ind = [flexi_lib_paths.index(i) for i in flexi_lib_paths if Path(i).stem.startswith(\"CHEMBL\")]\n",
    "actives_torsion = []\n",
    "for ind in actives_ind:\n",
    "    with open(flexi_lib_paths[ind], \"r\") as tmp:\n",
    "        lines = tmp.readlines()\n",
    "        actives_torsion.append(int(lines[15].split()[1]))\n",
    "decoys_ind = [flexi_lib_paths.index(i) for i in flexi_lib_paths if not Path(i).stem.startswith(\"CHEMBL\")]\n",
    "decoys_torsion = []\n",
    "for ind in decoys_ind:\n",
    "    with open(flexi_lib_paths[ind], \"r\") as tmp:\n",
    "        lines = tmp.readlines()\n",
    "        decoys_torsion.append(int(lines[15].split()[1]))"
   ]
  },
  {
   "cell_type": "code",
   "execution_count": 882,
   "id": "79436ddd-6493-4bfb-8705-50521cbb8c87",
   "metadata": {},
   "outputs": [],
   "source": [
    "flexi_scores = []\n",
    "for lig in flexi_lib_paths:\n",
    "    with open(lig, \"r\") as tmp:\n",
    "        lines = tmp.readlines()\n",
    "        flexi_scores.append(float(lines[3].replace(\"=\", \"\").split()[-3]))\n",
    "flexi_scores = np.array(flexi_scores)/ref_score_flexi\n",
    "\n",
    "rigid_scores = []\n",
    "for lig in rigid_lib_paths:\n",
    "    with open(lig, \"r\") as tmp:\n",
    "        lines = tmp.readlines()\n",
    "        rigid_scores.append(float(lines[3].replace(\"=\", \"\").split()[-3]))\n",
    "rigid_scores = np.array(rigid_scores)/ref_score_rigid"
   ]
  },
  {
   "cell_type": "code",
   "execution_count": 883,
   "id": "6470ff35-7a75-45bc-a225-8afde88e330a",
   "metadata": {},
   "outputs": [],
   "source": [
    "lib_rbonds = []\n",
    "lib_names = []\n",
    "for lig in flexi_lib_paths:\n",
    "    try:\n",
    "        with open(lig, \"r\") as tmp:\n",
    "            lines = tmp.readlines()\n",
    "            lib_rbonds.append(int(lines[15].split()[1]))\n",
    "            lib_names.append(Path(lig).stem.replace('_best_position', ''))\n",
    "    except:\n",
    "        pass"
   ]
  },
  {
   "cell_type": "code",
   "execution_count": 884,
   "id": "9eef5430-ab9b-4727-b309-67b3f49b883a",
   "metadata": {},
   "outputs": [],
   "source": [
    "def torsion_from_pdbqt(lig):\n",
    "    with open(f\"{flexi_path}{lig}/{lig}_best_position.pdbqt\", \"r\") as tmp:\n",
    "        lines = tmp.readlines()\n",
    "        return int(lines[15].split()[1])\n",
    "\n",
    "def norm_score(score, ref):\n",
    "    return -1/(1-score/ref)"
   ]
  },
  {
   "cell_type": "code",
   "execution_count": 885,
   "id": "1d1662ea-f09b-443d-8eca-e32e4c586594",
   "metadata": {},
   "outputs": [],
   "source": [
    "# rigid_scores = normalize([rigid_scores])[0]\n",
    "# flexi_scores = normalize([flexi_scores])[0]"
   ]
  },
  {
   "cell_type": "code",
   "execution_count": 886,
   "id": "fc668910-1061-452a-910a-5b2bc93a6f43",
   "metadata": {},
   "outputs": [],
   "source": [
    "import pandas as pd"
   ]
  },
  {
   "cell_type": "code",
   "execution_count": 887,
   "id": "133a7c23-e25d-4fe4-b293-d32da69a930e",
   "metadata": {},
   "outputs": [],
   "source": [
    "sorted_ind = np.argsort((rigid_scores/flexi_scores)/(rigid_scores-flexi_scores)**2)\n",
    "sorted_names = np.array(lib_names)[sorted_ind]\n",
    "sorted_cr = ((rigid_scores/flexi_scores)/(rigid_scores-flexi_scores)**2)[sorted_ind]\n",
    "sorted_torsion = [torsion_from_pdbqt(lig) for lig in sorted_names]"
   ]
  },
  {
   "cell_type": "code",
   "execution_count": 888,
   "id": "ff6578c0-b009-42ae-8a25-e4e94aed9fd3",
   "metadata": {},
   "outputs": [],
   "source": [
    "sorted_flexi_rank = [flexi_rank.index(name)+1 for name in sorted_names]\n",
    "sorted_rigid_rank = [rigid_rank.index(name)+1 for name in sorted_names]"
   ]
  },
  {
   "cell_type": "code",
   "execution_count": 889,
   "id": "4be50b3e-f300-4d94-8bc3-fc89469730d4",
   "metadata": {},
   "outputs": [],
   "source": [
    "df = pd.DataFrame({\"names\":sorted_names,\n",
    "                   \"flexi_scores\": flexi_scores[sorted_ind],\n",
    "                   \"rigid_scores\": rigid_scores[sorted_ind],\n",
    "                   \"flexi_rank\": sorted_flexi_rank,\n",
    "                   \"rigid_rank\": sorted_rigid_rank,\n",
    "                   \"change rate\":sorted_cr, \n",
    "                   \"torsion\":sorted_torsion})"
   ]
  },
  {
   "cell_type": "code",
   "execution_count": 894,
   "id": "68bebd66-4586-45a7-83cf-66da873bb5e6",
   "metadata": {},
   "outputs": [
    {
     "ename": "IndexError",
     "evalue": "invalid index to scalar variable.",
     "output_type": "error",
     "traceback": [
      "\u001b[0;31m---------------------------------------------------------------------------\u001b[0m",
      "\u001b[0;31mIndexError\u001b[0m                                Traceback (most recent call last)",
      "Input \u001b[0;32mIn [894]\u001b[0m, in \u001b[0;36m<cell line: 1>\u001b[0;34m()\u001b[0m\n\u001b[0;32m----> 1\u001b[0m \u001b[43mnp\u001b[49m\u001b[38;5;241;43m.\u001b[39;49m\u001b[43mmean\u001b[49m\u001b[43m(\u001b[49m\u001b[43m(\u001b[49m\u001b[43mrigid_scores\u001b[49m\u001b[38;5;241;43m-\u001b[39;49m\u001b[43mflexi_scores\u001b[49m\u001b[43m)\u001b[49m\u001b[38;5;241;43m/\u001b[39;49m\u001b[43mflexi_scores\u001b[49m\u001b[43m)\u001b[49m\u001b[43m[\u001b[49m\u001b[43mactives_ind\u001b[49m\u001b[43m]\u001b[49m\n",
      "\u001b[0;31mIndexError\u001b[0m: invalid index to scalar variable."
     ]
    }
   ],
   "source": [
    "np.mean((rigid_scores-flexi_scores)/flexi_scores)[actives_ind]"
   ]
  },
  {
   "cell_type": "code",
   "execution_count": 891,
   "id": "91855c81-db0d-4f97-a770-42746cb3cea5",
   "metadata": {},
   "outputs": [
    {
     "data": {
      "text/plain": [
       "-0.0423185771611413"
      ]
     },
     "execution_count": 891,
     "metadata": {},
     "output_type": "execute_result"
    }
   ],
   "source": [
    "np.mean((rigid_scores-flexi_scores)[actives_ind])"
   ]
  },
  {
   "cell_type": "code",
   "execution_count": 892,
   "id": "b2569dc4-c708-4e48-9dd6-cf302b65beac",
   "metadata": {},
   "outputs": [
    {
     "data": {
      "text/plain": [
       "0.8461199382207486"
      ]
     },
     "execution_count": 892,
     "metadata": {},
     "output_type": "execute_result"
    }
   ],
   "source": [
    "np.mean((rigid_scores/flexi_scores)[decoys_ind])"
   ]
  },
  {
   "cell_type": "code",
   "execution_count": 893,
   "id": "b5778763-b434-495b-814f-6774ecca77a2",
   "metadata": {},
   "outputs": [
    {
     "data": {
      "text/plain": [
       "-0.05848995730066564"
      ]
     },
     "execution_count": 893,
     "metadata": {},
     "output_type": "execute_result"
    }
   ],
   "source": [
    "np.mean((rigid_scores-flexi_scores)[decoys_ind])"
   ]
  },
  {
   "cell_type": "code",
   "execution_count": 875,
   "id": "8dca7861-c9bf-44d4-a6e7-ffbf2ec141eb",
   "metadata": {},
   "outputs": [
    {
     "data": {
      "text/plain": [
       "6.908222643766626"
      ]
     },
     "execution_count": 875,
     "metadata": {},
     "output_type": "execute_result"
    }
   ],
   "source": [
    "np.mean((rigid_scores/flexi_scores)[actives_ind])/-np.mean((rigid_scores-flexi_scores)[actives_ind])"
   ]
  },
  {
   "cell_type": "code",
   "execution_count": 876,
   "id": "27bbdd91-5d0e-4518-b0ee-fc083b6e9ef0",
   "metadata": {},
   "outputs": [
    {
     "data": {
      "text/plain": [
       "11.404746886806548"
      ]
     },
     "execution_count": 876,
     "metadata": {},
     "output_type": "execute_result"
    }
   ],
   "source": [
    "np.mean((rigid_scores/flexi_scores)[decoys_ind])/-np.mean((rigid_scores-flexi_scores)[decoys_ind])"
   ]
  },
  {
   "cell_type": "code",
   "execution_count": 845,
   "id": "234d15ed-fe05-4487-a085-1ff930db7230",
   "metadata": {},
   "outputs": [],
   "source": [
    "import os\n",
    "import subprocess\n",
    "import numpy as np\n",
    "import sys\n",
    "from scipy.spatial import distance\n",
    "def roc_auc_ef(total, actives, candidate_name):\n",
    "\n",
    "    import os\n",
    "    from importlib.resources import path\n",
    "    from sklearn import metrics\n",
    "    import matplotlib.pyplot as plt\n",
    "    import numpy as np\n",
    "\n",
    "\n",
    "    num_of_actives = len(actives)\n",
    "    num_of_decoys = len(total) - num_of_actives\n",
    "\n",
    "    act, dcy = 0, 0\n",
    "    fpr, tpr = [], []\n",
    "    for candidate in total:\n",
    "        if candidate in actives:\n",
    "            act += 1\n",
    "        else:\n",
    "            dcy += 1\n",
    "        fpr.append(dcy/num_of_decoys)\n",
    "        tpr.append(act/num_of_actives)\n",
    "        \n",
    "    return {candidate_name: round(metrics.auc(fpr, tpr), 15)}"
   ]
  },
  {
   "cell_type": "code",
   "execution_count": 846,
   "id": "ba381f77-be4a-4e97-af95-c0a1200fa538",
   "metadata": {},
   "outputs": [
    {
     "data": {
      "text/plain": [
       "{'wee1': 0.559120521172638}"
      ]
     },
     "execution_count": 846,
     "metadata": {},
     "output_type": "execute_result"
    }
   ],
   "source": [
    "roc_auc_ef(sorted_names,\n",
    "           [name for name in sorted_names if name.startswith(\"CHEMBL\")],\n",
    "            target)"
   ]
  },
  {
   "cell_type": "code",
   "execution_count": 856,
   "id": "f43d0191-1888-4914-90cb-e9f32b24d1c2",
   "metadata": {},
   "outputs": [],
   "source": [
    "def roc_auc_ef(total, actives, candidate_name):\n",
    "\n",
    "    import os\n",
    "    from importlib.resources import path\n",
    "    from sklearn import metrics\n",
    "    import matplotlib.pyplot as plt\n",
    "    import numpy as np\n",
    "\n",
    "\n",
    "    num_of_actives = len(actives)\n",
    "    num_of_decoys = len(total) - num_of_actives\n",
    "\n",
    "    act, dcy = 0, 0\n",
    "    fpr, tpr = [], []\n",
    "    for candidate in total:\n",
    "        if candidate in actives:\n",
    "            act += 1\n",
    "        else:\n",
    "            dcy += 1\n",
    "        fpr.append(dcy/num_of_decoys)\n",
    "        tpr.append(act/num_of_actives)\n",
    "\n",
    "    return [candidate_name, round(metrics.auc(fpr, tpr), 15)]"
   ]
  },
  {
   "cell_type": "code",
   "execution_count": 937,
   "id": "5b344d0c-ce86-4419-9b37-31c4ddb45a45",
   "metadata": {},
   "outputs": [],
   "source": [
    "def loss_auc(target):\n",
    "\n",
    "    def torsion_from_pdbqt(lig):\n",
    "        with open(f\"{flexi_path}{lig}/{lig}_best_position.pdbqt\", \"r\") as tmp:\n",
    "            lines = tmp.readlines()\n",
    "            return int(lines[15].split()[1])\n",
    "    from sklearn.preprocessing import normalize    \n",
    "    import os\n",
    "    import subprocess\n",
    "    import numpy as np\n",
    "    import sys\n",
    "    from scipy.spatial import distance\n",
    "    from pathlib import Path\n",
    "\n",
    "    flexi_path = f\"/root/autodl-tmp/lbvs/test_dude5/{target}/docking_test/lib/\"\n",
    "    rigid_path = f\"/root/autodl-tmp/lbvs/test_dude5_rigid/{target}/docking_test/lib/\"\n",
    "\n",
    "    rigid_lib_paths = [path.replace(\"./\", rigid_path) \n",
    "                    for path in \n",
    "                       list(subprocess.check_output(\"find . -name '*best_position.pdbqt' -type f\", shell=True, cwd=rigid_path).\n",
    "                         decode(sys.stdout.encoding).split(\"\\n\"))][0:-1]\n",
    "    \n",
    "    flexi_lib_paths = [path.replace(\"./\", flexi_path) \n",
    "                        for path in \n",
    "                           list(subprocess.check_output(\"find . -name '*best_position.pdbqt' -type f\", shell=True, cwd=flexi_path).\n",
    "                             decode(sys.stdout.encoding).split(\"\\n\"))][0:-1]\n",
    "    \n",
    "    ref_ind = [flexi_lib_paths.index(i) for i in flexi_lib_paths if (\"_ligand\" in Path(i).stem or \"_lig\" in Path(i).stem or \"_lig1\" in Path(i).stem or \"_complex\" in Path(i).stem)][0]\n",
    "    \n",
    "    with open(flexi_lib_paths[ref_ind], \"r\") as tmp:\n",
    "        lines = tmp.readlines()\n",
    "        ref_torsion = int(lines[15].split()[1])\n",
    "        ref_score_flexi = float(lines[3].replace(\"=\", \"\").split()[-3])\n",
    "\n",
    "    with open(rigid_lib_paths[ref_ind], \"r\") as tmp:\n",
    "        lines = tmp.readlines()\n",
    "        ref_score_rigid = float(lines[3].replace(\"=\", \"\").split()[-3])\n",
    "\n",
    "    del rigid_lib_paths[ref_ind]\n",
    "    del flexi_lib_paths[ref_ind]\n",
    "    \n",
    "    actives_ind = [flexi_lib_paths.index(i) for i in flexi_lib_paths if Path(i).stem.startswith(\"CHEMBL\")]\n",
    "    actives_torsion = []\n",
    "    for ind in actives_ind:\n",
    "        with open(flexi_lib_paths[ind], \"r\") as tmp:\n",
    "            lines = tmp.readlines()\n",
    "            actives_torsion.append(int(lines[15].split()[1]))\n",
    "            \n",
    "    decoys_ind = [flexi_lib_paths.index(i) for i in flexi_lib_paths if not Path(i).stem.startswith(\"CHEMBL\")]\n",
    "    decoys_torsion = []\n",
    "    for ind in decoys_ind:\n",
    "        with open(flexi_lib_paths[ind], \"r\") as tmp:\n",
    "            lines = tmp.readlines()\n",
    "            decoys_torsion.append(int(lines[15].split()[1]))\n",
    "    \n",
    "    flexi_scores = []\n",
    "    for lig in flexi_lib_paths:\n",
    "        with open(lig, \"r\") as tmp:\n",
    "            lines = tmp.readlines()\n",
    "            flexi_scores.append(float(lines[3].replace(\"=\", \"\").split()[-3]))\n",
    "    flexi_scores = np.array(flexi_scores)\n",
    "\n",
    "    rigid_scores = []\n",
    "    for lig in rigid_lib_paths:\n",
    "        with open(lig, \"r\") as tmp:\n",
    "            lines = tmp.readlines()\n",
    "            rigid_scores.append(float(lines[3].replace(\"=\", \"\").split()[-3]))\n",
    "    rigid_scores = np.array(rigid_scores)\n",
    "    \n",
    "    lib_rbonds = []\n",
    "    lib_names = []\n",
    "    for lig in flexi_lib_paths:\n",
    "        try:\n",
    "            with open(lig, \"r\") as tmp:\n",
    "                lines = tmp.readlines()\n",
    "                lib_rbonds.append(int(lines[15].split()[1]))\n",
    "                lib_names.append(Path(lig).stem.replace('_best_position', ''))\n",
    "        except:\n",
    "            pass\n",
    "    \n",
    "    ranking = normalize([np.argsort(flexi_scores)+1])[0]\n",
    "    # rigid_scores = normalize([rigid_scores])[0]\n",
    "    # flexi_scores = normalize([flexi_scores])[0]\n",
    "    sorted_ind = np.argsort(((flexi_scores-rigid_scores)/flexi_scores)/(ranking**4))[::-1]\n",
    "    sorted_names = np.array(lib_names)[sorted_ind]\n",
    "    # sorted_cr = ((rigid_scores/flexi_scores)/(rigid_scores-flexi_scores)**2)[sorted_ind]\n",
    "    sorted_torsion = [torsion_from_pdbqt(lig) for lig in sorted_names]\n",
    "    \n",
    "    \n",
    "    return roc_auc_ef(sorted_names, [name for name in sorted_names if name.startswith(\"CHEMBL\")], target)"
   ]
  },
  {
   "cell_type": "code",
   "execution_count": 938,
   "id": "00f17132-2bed-47e6-9f33-ec52bbac8d39",
   "metadata": {},
   "outputs": [],
   "source": [
    "import os\n",
    "targets = set(os.listdir(\"/root/autodl-tmp/lbvs/test_dude5\")) - set(['ampc'])"
   ]
  },
  {
   "cell_type": "code",
   "execution_count": 939,
   "id": "b0b1a276-687d-4b86-a821-8a1cda5c3ccf",
   "metadata": {},
   "outputs": [
    {
     "name": "stdout",
     "output_type": "stream",
     "text": [
      "['thb', 0.390188172043011]\n",
      "['jak2', 0.591525423728814]\n",
      "['lkha4', 0.703576769690927]\n",
      "['aofb', 0.544565217391304]\n",
      "['reni', 0.436546762589928]\n",
      "['xiap', 0.640856031128405]\n",
      "['hivpr', 0.411017218038751]\n",
      "['aces', 0.633481594442326]\n",
      "['glcm', 0.515039577836412]\n",
      "['fgfr1', 0.533597049232908]\n",
      "['fnta', 0.388159650932484]\n",
      "['esr1', 0.512584704743466]\n",
      "['ppard', 0.56611429350791]\n",
      "['pnph', 0.359712230215827]\n",
      "['src', 0.402082170369543]\n",
      "['urok', 0.52782012195122]\n",
      "['thrb', 0.39771150059714]\n",
      "['ppara', 0.553879460856205]\n",
      "['drd3', 0.496765657159659]\n",
      "['pparg', 0.518613861386139]\n",
      "['abl1', 0.377146699772398]\n",
      "['mk14', 0.385985558702677]\n",
      "['plk1', 0.446097201767305]\n",
      "['wee1', 0.502931596091205]\n",
      "['vgfr2', 0.340774167669475]\n",
      "['comt', 0.544921875]\n",
      "['def', 0.441652021089631]\n",
      "['cp2c9', 0.513216845878136]\n",
      "['bace1', 0.319295195954488]\n",
      "['tysy', 0.413521545319465]\n",
      "['fkb1a', 0.436050156739812]\n",
      "['kpcb', 0.511551739399841]\n",
      "['esr2', 0.506703556876996]\n",
      "['hxk4', 0.653399668325041]\n",
      "['lck', 0.525653739756772]\n",
      "['pgh2', 0.470173639389095]\n",
      "['cah2', 0.518497151510781]\n",
      "['aa2ar', 0.592489679263258]\n",
      "['pur2', 0.626765799256506]\n",
      "['adrb1', 0.588120791245791]\n",
      "['ada17', 0.544650574470328]\n",
      "['pyrd', 0.554912478825522]\n",
      "['csf1r', 0.423199588477366]\n",
      "['rxra', 0.577422577422577]\n",
      "['pa2ga', 0.575659316904453]\n",
      "['hdac2', 0.546539250620883]\n",
      "['aldr', 0.379310344827586]\n",
      "['nram', 0.620893914916532]\n",
      "['rock1', 0.491891891891892]\n",
      "['mk10', 0.440971168437026]\n",
      "['try1', 0.472562366232764]\n",
      "['prgr', 0.544514507452156]\n",
      "['tgfr1', 0.544441424300082]\n",
      "['pgh1', 0.377737671333106]\n",
      "['cdk2', 0.500684245533291]\n",
      "['mk01', 0.567967275015733]\n",
      "['adrb2', 0.546596281579024]\n",
      "['kit', 0.525862068965517]\n",
      "['ace', 0.537006439586511]\n",
      "['ital', 0.437046444121916]\n",
      "['fabp4', 0.935523114355231]\n",
      "['hmdh', 0.426638847758783]\n",
      "['pde5a', 0.481374850924269]\n",
      "['dhi1', 0.418883770486666]\n",
      "['egfr', 0.533261416756562]\n",
      "['nos1', 0.428447204968944]\n",
      "['mcr', 0.541504539559014]\n",
      "['igf1r', 0.459018914347224]\n",
      "['parp1', 0.498887778887779]\n",
      "['cxcr4', 0.766911764705882]\n",
      "['dyr', 0.479856169760198]\n",
      "['fak1', 0.591028037383178]\n",
      "['ptn1', 0.655271639042357]\n",
      "['hdac8', 0.486364660806851]\n",
      "['fa7', 0.467657342657343]\n",
      "['kith', 0.854035087719298]\n",
      "['grik1', 0.579340808698607]\n",
      "['kif11', 0.570441254651781]\n",
      "['fpps', 0.523242630385488]\n",
      "['fa10', 0.654128889977946]\n",
      "['mp2k1', 0.462428337428337]\n",
      "['hs90a', 0.504390495867769]\n",
      "['met', 0.641069839857651]\n",
      "['inha', 0.633695652173913]\n",
      "['akt2', 0.507837445573295]\n",
      "['cp3a4', 0.441101631492292]\n",
      "['braf', 0.567069081153588]\n",
      "['gria2', 0.362750070442378]\n",
      "['casp3', 0.556053370095022]\n",
      "['andr', 0.522100632979294]\n",
      "['hivrt', 0.452987747105394]\n",
      "['pygm', 0.409354604786077]\n",
      "['dpp4', 0.359615632896217]\n",
      "['ada', 0.498978758169935]\n",
      "['gcr', 0.50794974427396]\n",
      "['akt1', 0.660695535301777]\n",
      "['mmp13', 0.467034369328494]\n",
      "['mapk2', 0.400488599348534]\n",
      "['sahh', 0.65024154589372]\n",
      "['tryb1', 0.443343305908751]\n",
      "['hivint', 0.668825301204819]\n"
     ]
    }
   ],
   "source": [
    "na=[]\n",
    "sc=[]\n",
    "for tar in targets:\n",
    "    a = loss_auc(tar)\n",
    "    print(a)\n",
    "    na.append(a[0])\n",
    "    sc.append(a[-1])"
   ]
  },
  {
   "cell_type": "code",
   "execution_count": 940,
   "id": "d4a545a2-6b9c-49c6-a02c-e1e9c7ff5356",
   "metadata": {},
   "outputs": [],
   "source": [
    "data = {\"lig_names\": na, \"diff_score\": sc}"
   ]
  },
  {
   "cell_type": "code",
   "execution_count": 941,
   "id": "d551231e-a6e7-42f7-b594-78b07a31de04",
   "metadata": {},
   "outputs": [],
   "source": [
    "import pandas as pd\n",
    "pd.DataFrame.from_dict(data).to_csv(\"diff.csv\")"
   ]
  },
  {
   "cell_type": "code",
   "execution_count": 942,
   "id": "b8a3a95c-ff3e-4c9c-b6b3-14120283bf8e",
   "metadata": {},
   "outputs": [
    {
     "data": {
      "text/plain": [
       "0.5160246173552469"
      ]
     },
     "execution_count": 942,
     "metadata": {},
     "output_type": "execute_result"
    }
   ],
   "source": [
    "import statistics\n",
    "statistics.mean(sc)"
   ]
  },
  {
   "cell_type": "code",
   "execution_count": null,
   "id": "e21277f0-cc14-4a2d-b4e4-82d7abe4a534",
   "metadata": {},
   "outputs": [],
   "source": []
  }
 ],
 "metadata": {
  "kernelspec": {
   "display_name": "ncflbvs",
   "language": "python",
   "name": "ncflbvs"
  },
  "language_info": {
   "codemirror_mode": {
    "name": "ipython",
    "version": 3
   },
   "file_extension": ".py",
   "mimetype": "text/x-python",
   "name": "python",
   "nbconvert_exporter": "python",
   "pygments_lexer": "ipython3",
   "version": "3.9.12"
  }
 },
 "nbformat": 4,
 "nbformat_minor": 5
}
